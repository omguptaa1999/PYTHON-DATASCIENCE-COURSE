{
 "cells": [
  {
   "cell_type": "markdown",
   "id": "730af708",
   "metadata": {},
   "source": [
    "FUNCTIONS"
   ]
  },
  {
   "cell_type": "code",
   "execution_count": 13,
   "id": "4cfb12a5",
   "metadata": {},
   "outputs": [
    {
     "name": "stdout",
     "output_type": "stream",
     "text": [
      "Om's total expense is 6600\n",
      "Tom's total expense is 6300\n"
     ]
    }
   ],
   "source": [
    "# Functions is a block of code that performs a specic task. Functions makes your code more readable and more modular.\n",
    "\n",
    "# Question:- You are given two lists of numbers and you need to find out the total of each list.\n",
    "# Given Lists are:  list1 = [2100,2200,2300] and list2 = [2400,2000,1900]\n",
    "\n",
    "def calculate_total(exp):\n",
    "    total = 0\n",
    "    for item in exp:\n",
    "        total = total + item\n",
    "    return total\n",
    "list1 = [2100,2200,2300]\n",
    "list2 = [2400,2000,1900]\n",
    "\n",
    "Om_total = calculate_total(list1)\n",
    "Tom_total = calculate_total(list2)\n",
    "print(\"Om's total expense is\", Om_total)\n",
    "print(\"Tom's total expense is\", Tom_total)"
   ]
  },
  {
   "cell_type": "code",
   "execution_count": null,
   "id": "db6bf233",
   "metadata": {},
   "outputs": [],
   "source": []
  },
  {
   "cell_type": "code",
   "execution_count": null,
   "id": "f51580ce",
   "metadata": {},
   "outputs": [],
   "source": []
  },
  {
   "cell_type": "markdown",
   "id": "ec9d23ef",
   "metadata": {},
   "source": [
    "DICTIONARIES AND TUPLES"
   ]
  },
  {
   "cell_type": "code",
   "execution_count": 23,
   "id": "6058c120",
   "metadata": {},
   "outputs": [
    {
     "data": {
      "text/plain": [
       "8787878787"
      ]
     },
     "execution_count": 23,
     "metadata": {},
     "output_type": "execute_result"
    }
   ],
   "source": [
    "# Dictionary allows you to store the key and value pairs. Also known as Maps, Hashtables, Associate Arrays.\n",
    "\n",
    "d = {\"tom\":8787878787, \"tuo\":9898989898}    # Here, key is tom and tuo and value is 8787878787 and 9898989898 respectively.\n",
    "d[\"tom\"]"
   ]
  },
  {
   "cell_type": "code",
   "execution_count": 24,
   "id": "7f7d5c86",
   "metadata": {},
   "outputs": [],
   "source": [
    "d = {\"tom\":8787878787, \"tuo\":9898989898}\n",
    "d[\"sam\"] = 9090909090  # Adding the Sam into the dictionary."
   ]
  },
  {
   "cell_type": "code",
   "execution_count": 25,
   "id": "51040084",
   "metadata": {},
   "outputs": [
    {
     "data": {
      "text/plain": [
       "{'tom': 8787878787, 'tuo': 9898989898, 'sam': 9090909090}"
      ]
     },
     "execution_count": 25,
     "metadata": {},
     "output_type": "execute_result"
    }
   ],
   "source": [
    "d"
   ]
  },
  {
   "cell_type": "code",
   "execution_count": 26,
   "id": "e5837a8b",
   "metadata": {},
   "outputs": [],
   "source": [
    "del d[\"tuo\"]  # deleting the tuo."
   ]
  },
  {
   "cell_type": "code",
   "execution_count": 27,
   "id": "54d4fd35",
   "metadata": {},
   "outputs": [
    {
     "data": {
      "text/plain": [
       "{'tom': 8787878787, 'sam': 9090909090}"
      ]
     },
     "execution_count": 27,
     "metadata": {},
     "output_type": "execute_result"
    }
   ],
   "source": [
    "d"
   ]
  },
  {
   "cell_type": "code",
   "execution_count": 28,
   "id": "05cf926a",
   "metadata": {},
   "outputs": [
    {
     "name": "stdout",
     "output_type": "stream",
     "text": [
      "key: tom value: 8787878787\n",
      "key: sam value: 9090909090\n"
     ]
    }
   ],
   "source": [
    "for key in d:\n",
    "    print(\"key:\", key, \"value:\", d[key])"
   ]
  },
  {
   "cell_type": "code",
   "execution_count": 30,
   "id": "008e6341",
   "metadata": {},
   "outputs": [
    {
     "data": {
      "text/plain": [
       "True"
      ]
     },
     "execution_count": 30,
     "metadata": {},
     "output_type": "execute_result"
    }
   ],
   "source": [
    "\"tom\" in d"
   ]
  },
  {
   "cell_type": "code",
   "execution_count": 31,
   "id": "dc45a6b8",
   "metadata": {},
   "outputs": [
    {
     "data": {
      "text/plain": [
       "False"
      ]
     },
     "execution_count": 31,
     "metadata": {},
     "output_type": "execute_result"
    }
   ],
   "source": [
    "\"tuo\" in d"
   ]
  },
  {
   "cell_type": "code",
   "execution_count": 32,
   "id": "49de0d2a",
   "metadata": {},
   "outputs": [],
   "source": [
    "d.clear()    # It will clear all the elements of dictionary."
   ]
  },
  {
   "cell_type": "code",
   "execution_count": 33,
   "id": "cee6e568",
   "metadata": {},
   "outputs": [
    {
     "data": {
      "text/plain": [
       "{}"
      ]
     },
     "execution_count": 33,
     "metadata": {},
     "output_type": "execute_result"
    }
   ],
   "source": [
    "d"
   ]
  },
  {
   "cell_type": "code",
   "execution_count": 34,
   "id": "b0aa5827",
   "metadata": {},
   "outputs": [],
   "source": [
    "# TUPLES\n",
    "\n",
    "# Tuple is a list of values grouped together.\n",
    "\n",
    "point = [6, 8]    # I have represented the geometrical points on a plane here."
   ]
  },
  {
   "cell_type": "code",
   "execution_count": 35,
   "id": "57f9a923",
   "metadata": {},
   "outputs": [
    {
     "data": {
      "text/plain": [
       "6"
      ]
     },
     "execution_count": 35,
     "metadata": {},
     "output_type": "execute_result"
    }
   ],
   "source": [
    "point[0]"
   ]
  },
  {
   "cell_type": "code",
   "execution_count": 36,
   "id": "33f54baa",
   "metadata": {},
   "outputs": [
    {
     "data": {
      "text/plain": [
       "8"
      ]
     },
     "execution_count": 36,
     "metadata": {},
     "output_type": "execute_result"
    }
   ],
   "source": [
    "point[1]"
   ]
  },
  {
   "cell_type": "code",
   "execution_count": null,
   "id": "8cd459e6",
   "metadata": {},
   "outputs": [],
   "source": []
  },
  {
   "cell_type": "code",
   "execution_count": null,
   "id": "50f460a5",
   "metadata": {},
   "outputs": [],
   "source": []
  },
  {
   "cell_type": "code",
   "execution_count": null,
   "id": "8e54e6f4",
   "metadata": {},
   "outputs": [],
   "source": []
  },
  {
   "cell_type": "code",
   "execution_count": null,
   "id": "32de3ad3",
   "metadata": {},
   "outputs": [],
   "source": []
  },
  {
   "cell_type": "markdown",
   "id": "916acff6",
   "metadata": {},
   "source": [
    "# MODULES"
   ]
  },
  {
   "cell_type": "markdown",
   "id": "1d61567c",
   "metadata": {},
   "source": [
    "WILL COVER IT UP ON NEXT DAY."
   ]
  }
 ],
 "metadata": {
  "kernelspec": {
   "display_name": "Python 3 (ipykernel)",
   "language": "python",
   "name": "python3"
  },
  "language_info": {
   "codemirror_mode": {
    "name": "ipython",
    "version": 3
   },
   "file_extension": ".py",
   "mimetype": "text/x-python",
   "name": "python",
   "nbconvert_exporter": "python",
   "pygments_lexer": "ipython3",
   "version": "3.10.9"
  }
 },
 "nbformat": 4,
 "nbformat_minor": 5
}
