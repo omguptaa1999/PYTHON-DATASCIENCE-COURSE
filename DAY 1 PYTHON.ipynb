{
 "cells": [
  {
   "cell_type": "code",
   "execution_count": null,
   "id": "72c5325e",
   "metadata": {},
   "outputs": [],
   "source": [
    "rent=1200\n",
    "gas=202.7\n",
    "groceries=700\n",
    "print(\"Rent is\",rent)\n",
    "print(\"Gas is\",gas)\n",
    "print(\"Groceries is\",groceries)\n",
    "print(\"The total of rent, gas and groceries is\",total)  # Here I am using total function instead of creating a variable total and pasting the values of rent, gas and groceries into it."
   ]
  },
  {
   "cell_type": "code",
   "execution_count": 7,
   "id": "4f7a0327",
   "metadata": {},
   "outputs": [
    {
     "data": {
      "text/plain": [
       "6"
      ]
     },
     "execution_count": 7,
     "metadata": {},
     "output_type": "execute_result"
    }
   ],
   "source": [
    "2+4"
   ]
  },
  {
   "cell_type": "code",
   "execution_count": 8,
   "id": "982578f1",
   "metadata": {},
   "outputs": [
    {
     "data": {
      "text/plain": [
       "0"
      ]
     },
     "execution_count": 8,
     "metadata": {},
     "output_type": "execute_result"
    }
   ],
   "source": [
    "0*0"
   ]
  },
  {
   "cell_type": "code",
   "execution_count": 9,
   "id": "a82c9480",
   "metadata": {},
   "outputs": [
    {
     "data": {
      "text/plain": [
       "1"
      ]
     },
     "execution_count": 9,
     "metadata": {},
     "output_type": "execute_result"
    }
   ],
   "source": [
    "1%2"
   ]
  },
  {
   "cell_type": "code",
   "execution_count": 10,
   "id": "17f735e8",
   "metadata": {},
   "outputs": [
    {
     "data": {
      "text/plain": [
       "0.5"
      ]
     },
     "execution_count": 10,
     "metadata": {},
     "output_type": "execute_result"
    }
   ],
   "source": [
    "1/2"
   ]
  },
  {
   "cell_type": "code",
   "execution_count": 12,
   "id": "997202be",
   "metadata": {},
   "outputs": [
    {
     "data": {
      "text/plain": [
       "0.125"
      ]
     },
     "execution_count": 12,
     "metadata": {},
     "output_type": "execute_result"
    }
   ],
   "source": [
    "0.5**3"
   ]
  },
  {
   "cell_type": "code",
   "execution_count": 17,
   "id": "003aaf43",
   "metadata": {},
   "outputs": [
    {
     "name": "stdout",
     "output_type": "stream",
     "text": [
      "The Total Distance covered by the car is 2800\n",
      "The Total Time taken by the car is 50.91\n"
     ]
    }
   ],
   "source": [
    "##Question 1: A car is moving from Delhi to Mumbai and Mumbai to Shimla. Find out the total distance and total time taken by it.Given Delhi to Mumbai = 1200km and Mumbai to Shimla = 1600km. ##\n",
    "\n",
    "DM = 1200\n",
    "MS = 1600\n",
    "Total_Distance = DM + MS\n",
    "Speed = 55\n",
    "Time = Total_Distance/Speed  # Using the mathematical formula for calculating the time.\n",
    "print(\"The Total Distance covered by the car is\", Total_Distance)\n",
    "print(\"The Total Time taken by the car is\", round(Time,2))  # Round function is used to round the float values upto a specific decimals just like upto 2,3 and so on."
   ]
  },
  {
   "cell_type": "code",
   "execution_count": 26,
   "id": "68808f27",
   "metadata": {},
   "outputs": [
    {
     "name": "stdout",
     "output_type": "stream",
     "text": [
      "Summer\n",
      "Address is: 1 Purple Street\n",
      "New York\n",
      "USA\n",
      "ab\n",
      "a b\n",
      "Number of states in India are # 29\n"
     ]
    }
   ],
   "source": [
    "# STRINGS\n",
    "\n",
    "Text = \"Summer\"\n",
    "print(Text)\n",
    "\n",
    "address = '''1 Purple Street\n",
    "New York\n",
    "USA'''\n",
    "print(\"Address is:\", address)\n",
    "\n",
    "s1 = \"a\"\n",
    "s2 = \"b\"\n",
    "print(s1+s2)\n",
    "print(s1+' '+s2)\n",
    "\n",
    "s1 = \"Number of states in India are #\"\n",
    "s2 = 29\n",
    "print(s1+ \" \" +str(s2))"
   ]
  },
  {
   "cell_type": "markdown",
   "id": "18236aed",
   "metadata": {},
   "source": [
    "LISTS"
   ]
  },
  {
   "cell_type": "code",
   "execution_count": null,
   "id": "05b4209a",
   "metadata": {},
   "outputs": [],
   "source": []
  },
  {
   "cell_type": "code",
   "execution_count": null,
   "id": "81f1421f",
   "metadata": {},
   "outputs": [],
   "source": []
  }
 ],
 "metadata": {
  "kernelspec": {
   "display_name": "Python 3 (ipykernel)",
   "language": "python",
   "name": "python3"
  },
  "language_info": {
   "codemirror_mode": {
    "name": "ipython",
    "version": 3
   },
   "file_extension": ".py",
   "mimetype": "text/x-python",
   "name": "python",
   "nbconvert_exporter": "python",
   "pygments_lexer": "ipython3",
   "version": "3.10.9"
  }
 },
 "nbformat": 4,
 "nbformat_minor": 5
}
