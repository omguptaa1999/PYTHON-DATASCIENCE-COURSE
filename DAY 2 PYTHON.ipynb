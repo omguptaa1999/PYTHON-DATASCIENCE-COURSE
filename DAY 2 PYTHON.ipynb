{
 "cells": [
  {
   "cell_type": "markdown",
   "id": "14436e21",
   "metadata": {},
   "source": [
    "IF, ELIF AND ELSE STATEMENTS"
   ]
  },
  {
   "cell_type": "code",
   "execution_count": 4,
   "id": "ad17b9d7",
   "metadata": {},
   "outputs": [
    {
     "name": "stdout",
     "output_type": "stream",
     "text": [
      "Sambhar\n",
      "Indian\n"
     ]
    }
   ],
   "source": [
    "# IF STATEMENT:-\n",
    "\n",
    "\n",
    "# Question: You have to find from which cuisine is the dish from.\n",
    "\n",
    "dish = input()\n",
    "Indian = ('Dhokla', 'Sambhar', 'Ras Malai')\n",
    "Italian = ('Cappuccino', 'Taco')\n",
    "Chinese = ('Chowmin', 'Chilli Potato')\n",
    "\n",
    "if dish in Indian:\n",
    "    print('Indian')\n",
    "elif dish in Italian:\n",
    "    print('Italian')\n",
    "elif dish in Chinese:\n",
    "    print('Chinese')\n",
    "else:\n",
    "    print('Sorry, not able to find', dish, 'in our cuisines.')"
   ]
  },
  {
   "cell_type": "markdown",
   "id": "d09b8ae0",
   "metadata": {},
   "source": [
    "LOOPS"
   ]
  },
  {
   "cell_type": "raw",
   "id": "de64f6c6",
   "metadata": {},
   "source": [
    "FOR LOOP"
   ]
  },
  {
   "cell_type": "code",
   "execution_count": 29,
   "id": "6ffc2f17",
   "metadata": {},
   "outputs": [
    {
     "name": "stdout",
     "output_type": "stream",
     "text": [
      "2000\n",
      "1\n",
      "2\n",
      "3\n",
      "4\n",
      "5\n",
      "6\n",
      "7\n",
      "8\n",
      "9\n",
      "10\n",
      "Month: 1 Expense: 200\n",
      "Month: 2 Expense: 300\n",
      "Month: 3 Expense: 400\n",
      "Month: 4 Expense: 500\n",
      "Month: 5 Expense: 600\n",
      "Expenses total is: 2000\n",
      "Key is not found in Garage\n",
      "Key is not found in Shelf\n",
      "Key is not found in Chair\n",
      "Key is found in Car\n",
      "1\n",
      "9\n",
      "25\n",
      "49\n",
      "81\n"
     ]
    }
   ],
   "source": [
    "# Store monthly expenses in a list and find out the total expenses for all months.\n",
    "\n",
    "exp = [200, 300, 400, 500, 600]\n",
    "total = 0\n",
    "\n",
    "for item in exp:\n",
    "    total = total + item\n",
    "print(total)\n",
    "\n",
    "\n",
    "# Print 1 to 10 using range() function.\n",
    "\n",
    "for i in range(1, 11):\n",
    "    print(i)\n",
    "    \n",
    "    \n",
    "# Store monthly expenses in a list, print the month number and expense and at the end find out the total expenses for all months.\n",
    "\n",
    "exps = [200, 300, 400, 500, 600]\n",
    "totals = 0\n",
    "\n",
    "for i in range(len(exps)):\n",
    "    print('Month:', (i+1), 'Expense:', exps[i])\n",
    "    totals = totals + exps[i]\n",
    "print('Expenses total is:', totals)\n",
    "\n",
    "\n",
    "# Search for a lost key in home and when found stop seraching.\n",
    "\n",
    "key_location = \"Car\"\n",
    "locations = [\"Garage\", \"Shelf\", \"Chair\", \"Car\", \"Sofa\", \"Living Room\"]\n",
    "\n",
    "for i in locations:\n",
    "    if i == key_location:\n",
    "        print(\"Key is found in\", i)\n",
    "        break\n",
    "    else:\n",
    "        print(\"Key is not found in\", i)\n",
    "        \n",
    "        \n",
    "# Print square of numbers from 1 to 10.\n",
    "\n",
    "#for i in range(1, 11):\n",
    "#    print(i*i)\n",
    "    \n",
    "\n",
    "# Print square of numbers from 1 to 10 EXCEPT even numbers.\n",
    "\n",
    "for i in range(1, 11):\n",
    "    if i%2 == 0:\n",
    "        continue\n",
    "    print(i*i)"
   ]
  },
  {
   "cell_type": "raw",
   "id": "bf5fd71c",
   "metadata": {},
   "source": [
    "WHILE LOOP"
   ]
  },
  {
   "cell_type": "code",
   "execution_count": 30,
   "id": "9f26bd81",
   "metadata": {},
   "outputs": [
    {
     "name": "stdout",
     "output_type": "stream",
     "text": [
      "1\n",
      "2\n",
      "3\n",
      "4\n",
      "5\n"
     ]
    }
   ],
   "source": [
    "# Print numbers from 1 to 5 using while loop.\n",
    "\n",
    "i=1\n",
    "while i<=5:\n",
    "    print(i)\n",
    "    i=i+1"
   ]
  }
 ],
 "metadata": {
  "kernelspec": {
   "display_name": "Python 3 (ipykernel)",
   "language": "python",
   "name": "python3"
  },
  "language_info": {
   "codemirror_mode": {
    "name": "ipython",
    "version": 3
   },
   "file_extension": ".py",
   "mimetype": "text/x-python",
   "name": "python",
   "nbconvert_exporter": "python",
   "pygments_lexer": "ipython3",
   "version": "3.10.9"
  }
 },
 "nbformat": 4,
 "nbformat_minor": 5
}
